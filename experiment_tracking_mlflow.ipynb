{
 "cells": [
  {
   "cell_type": "markdown",
   "id": "009f9c35",
   "metadata": {},
   "source": [
    "## NYC Taxi Data Experimnt Tracking"
   ]
  },
  {
   "cell_type": "code",
   "execution_count": null,
   "id": "b2bd82d7",
   "metadata": {},
   "outputs": [],
   "source": [
    "!python -V"
   ]
  },
  {
   "cell_type": "code",
   "execution_count": null,
   "id": "8b135c2b",
   "metadata": {},
   "outputs": [],
   "source": [
    "import requests\n",
    "import pickle\n",
    "\n",
    "import pandas as pd\n",
    "\n",
    "from sklearn.ensemble import RandomForestRegressor, GradientBoostingRegressor\n",
    "from sklearn.feature_extraction import DictVectorizer\n",
    "from sklearn.linear_model import LinearRegression\n",
    "from sklearn.linear_model import Lasso\n",
    "from sklearn.linear_model import Ridge\n",
    "from sklearn.metrics import mean_squared_error\n",
    "from sklearn.svm import LinearSVR\n",
    "\n",
    "from tqdm import tqdm"
   ]
  },
  {
   "cell_type": "code",
   "execution_count": null,
   "id": "ac51bff5",
   "metadata": {},
   "outputs": [],
   "source": [
    "files = [('green_tripdata_2022-02.parquet', './data'), ('green_tripdata_2022-01.parquet', './data')]\n",
    "\n",
    "print(\"Download files:\")\n",
    "for file, path in files:\n",
    "    url=f\"https://d37ci6vzurychx.cloudfront.net/trip-data/{file}\"\n",
    "    resp=requests.get(url, stream=True)\n",
    "    save_path=f\"{path}/{file}\"\n",
    "    with open(save_path, \"wb\") as handle:\n",
    "        for data in tqdm(resp.iter_content(),\n",
    "                        desc=f\"{file}\",\n",
    "                        postfix=f\"save to {save_path}\",\n",
    "                        total=int(resp.headers[\"Content-Length\"])):\n",
    "            handle.write(data)"
   ]
  },
  {
   "cell_type": "code",
   "execution_count": null,
   "id": "f0b3c9b1",
   "metadata": {},
   "outputs": [],
   "source": [
    "train_raw_data = pd.read_parquet('data/green_tripdata_2022-01.parquet')\n",
    "val_raw_data = pd.read_parquet('data/green_tripdata_2022-02.parquet')"
   ]
  },
  {
   "cell_type": "code",
   "execution_count": null,
   "id": "caa0c926",
   "metadata": {},
   "outputs": [],
   "source": [
    "train_raw_data.head()"
   ]
  },
  {
   "cell_type": "code",
   "execution_count": null,
   "id": "4e99c325",
   "metadata": {},
   "outputs": [],
   "source": [
    "train_raw_data.info()"
   ]
  },
  {
   "cell_type": "code",
   "execution_count": null,
   "id": "333bf518",
   "metadata": {},
   "outputs": [],
   "source": [
    "def process_dataframe(data):\n",
    "    data.lpep_dropoff_datetime = pd.to_datetime(data.lpep_dropoff_datetime)\n",
    "    data.lpep_pickup_datetime = pd.to_datetime(data.lpep_pickup_datetime)\n",
    "\n",
    "    data['duration'] = data.lpep_dropoff_datetime - data.lpep_pickup_datetime\n",
    "    data.duration = data.duration.apply(lambda td: td.total_seconds() / 60)\n",
    "    data = data[(data.duration >= 1) & (data.duration <= 60)]\n",
    "    \n",
    "    data['PULocationID'].astype(str, copy=False)\n",
    "    data['DOLocationID'].astype(str, copy=False)\n",
    "    \n",
    "    return data"
   ]
  },
  {
   "cell_type": "code",
   "execution_count": null,
   "id": "36d77ff3",
   "metadata": {},
   "outputs": [],
   "source": [
    "num_features = ['trip_distance', 'extra', 'fare_amount']\n",
    "cat_features = ['PULocationID', 'DOLocationID']"
   ]
  },
  {
   "cell_type": "code",
   "execution_count": null,
   "id": "2e84bb84",
   "metadata": {},
   "outputs": [],
   "source": [
    "X_train = process_dataframe(train_raw_data)[num_features + cat_features]\n",
    "X_val = process_dataframe(val_raw_data)[num_features + cat_features] \n",
    "\n",
    "y_train = process_dataframe(train_raw_data)['duration']\n",
    "y_val = process_dataframe(val_raw_data)['duration'] "
   ]
  },
  {
   "cell_type": "code",
   "execution_count": null,
   "id": "75c9826d",
   "metadata": {},
   "outputs": [],
   "source": [
    "X_val.isnull().sum()"
   ]
  },
  {
   "cell_type": "markdown",
   "id": "ee6f0bfe",
   "metadata": {},
   "source": [
    "## Simple Experimnet "
   ]
  },
  {
   "cell_type": "code",
   "execution_count": null,
   "id": "c93df975",
   "metadata": {},
   "outputs": [],
   "source": [
    "lr = Ridge()\n",
    "lr.fit(X_train, y_train)\n",
    "\n",
    "y_pred = lr.predict(X_val)\n",
    "\n",
    "mean_squared_error(y_val, y_pred, squared=False)"
   ]
  },
  {
   "cell_type": "markdown",
   "id": "288e677b",
   "metadata": {},
   "source": [
    "## MLflow tracking"
   ]
  },
  {
   "cell_type": "code",
   "execution_count": null,
   "id": "03728b63",
   "metadata": {},
   "outputs": [],
   "source": [
    "import mlflow"
   ]
  },
  {
   "cell_type": "code",
   "execution_count": null,
   "id": "889d09c5",
   "metadata": {},
   "outputs": [],
   "source": [
    "mlflow.set_tracking_uri(\"sqlite:///mlflow.db\")\n",
    "mlflow.set_experiment(\"test\")"
   ]
  },
  {
   "cell_type": "code",
   "execution_count": null,
   "id": "5647781c",
   "metadata": {},
   "outputs": [],
   "source": [
    "with mlflow.start_run():\n",
    "    mlflow.set_tag(\"workspace\", \"in_class\")\n",
    "    mlflow.log_param(\"train_data_name\", \"green_tripdata_2021-01.parquet\")\n",
    "    mlflow.log_param(\"validation_data_name\", \"green_tripdata_2021-02.parquet\")\n",
    "    \n",
    "    alpha = 0.99\n",
    "    mlflow.log_param(\"alpha\", alpha)\n",
    "    \n",
    "    lr = Lasso(alpha)\n",
    "    lr.fit(X_train, y_train)\n",
    "\n",
    "    y_pred = lr.predict(X_val)\n",
    "    rmse = mean_squared_error(y_val, y_pred, squared=False)\n",
    "    \n",
    "    mlflow.log_metric(\"rmse\", rmse)"
   ]
  },
  {
   "cell_type": "markdown",
   "id": "e3790f76",
   "metadata": {},
   "source": [
    "## Hyperparameters Optimization"
   ]
  },
  {
   "cell_type": "code",
   "execution_count": null,
   "id": "b3520c2a",
   "metadata": {},
   "outputs": [],
   "source": [
    "import xgboost as xgb\n",
    "\n",
    "from hyperopt import fmin, tpe, hp, STATUS_OK, Trials\n",
    "from hyperopt.pyll import scope"
   ]
  },
  {
   "cell_type": "code",
   "execution_count": null,
   "id": "884bf5bc",
   "metadata": {},
   "outputs": [],
   "source": [
    "mlflow.set_tracking_uri(\"sqlite:///mlflow.db\")\n",
    "mlflow.set_experiment(\"test\")"
   ]
  },
  {
   "cell_type": "code",
   "execution_count": null,
   "id": "799e4a8f",
   "metadata": {},
   "outputs": [],
   "source": [
    "train = xgb.DMatrix(X_train, label=y_train)\n",
    "validation = xgb.DMatrix(X_val, label=y_val)"
   ]
  },
  {
   "cell_type": "code",
   "execution_count": null,
   "id": "27c1c6b5",
   "metadata": {},
   "outputs": [],
   "source": [
    "def objective(params):\n",
    "    with mlflow.start_run():\n",
    "        num_boost_round = 500\n",
    "        early_stopping_rounds = 50\n",
    "        \n",
    "        mlflow.log_params(params)\n",
    "        mlflow.log_param('num_boost_round', num_boost_round)\n",
    "        mlflow.log_param('early_stopping_rounds', early_stopping_rounds)\n",
    "        mlflow.log_param('train_data_name', 'green_tripdata_2021-01.parquet')\n",
    "        mlflow.log_param('validation_data_name', 'green_tripdata_2021-02.parquet')\n",
    "        mlflow.set_tag('model', 'xgboost')\n",
    "\n",
    "        booster = xgb.train(\n",
    "            params = params,\n",
    "            dtrain = train,\n",
    "            evals = [(validation, \"validation\")],\n",
    "            num_boost_round = num_boost_round,\n",
    "            early_stopping_rounds = early_stopping_rounds\n",
    "        )\n",
    "        \n",
    "        y_pred = booster.predict(validation)\n",
    "        rmse = mean_squared_error(y_val, y_pred, squared=False)\n",
    "        mlflow.log_metric('rmse', rmse)\n",
    "        return {'loss': rmse, 'status': STATUS_OK}"
   ]
  },
  {
   "cell_type": "code",
   "execution_count": null,
   "id": "92b72f21",
   "metadata": {},
   "outputs": [],
   "source": [
    "grid_search = {\n",
    "    'max_depth': scope.int(hp.quniform('max_depth', 4, 100, 1)),\n",
    "    'reg_alpha': hp.loguniform('reg_alpha', -5, -1),\n",
    "    'reg_lambda': hp.loguniform('reg_lambda', -6, -1),\n",
    "    'min_child': hp.loguniform('min_child', -1, 3),\n",
    "    'seed': 111,\n",
    "    'objective': 'reg:linear'\n",
    "}"
   ]
  },
  {
   "cell_type": "code",
   "execution_count": null,
   "id": "54b60969",
   "metadata": {},
   "outputs": [],
   "source": [
    "best_model = fmin(\n",
    "    fn=objective,\n",
    "    space=grid_search,\n",
    "    algo=tpe.suggest,\n",
    "    max_evals=30,\n",
    "    trials=Trials()\n",
    ")"
   ]
  },
  {
   "cell_type": "markdown",
   "id": "182da9e1",
   "metadata": {},
   "source": [
    "## Train the Best Model"
   ]
  },
  {
   "cell_type": "code",
   "execution_count": null,
   "id": "15cdaeb7",
   "metadata": {},
   "outputs": [],
   "source": [
    "import xgboost as xgb\n",
    "\n",
    "from hyperopt import fmin, tpe, hp, STATUS_OK, Trials\n",
    "from hyperopt.pyll import scope"
   ]
  },
  {
   "cell_type": "code",
   "execution_count": null,
   "id": "793569b0",
   "metadata": {},
   "outputs": [],
   "source": [
    "mlflow.set_tracking_uri(\"sqlite:///mlflow.db\")\n",
    "mlflow.set_experiment(\"test\")"
   ]
  },
  {
   "cell_type": "code",
   "execution_count": null,
   "id": "510ab868",
   "metadata": {
    "scrolled": true
   },
   "outputs": [],
   "source": [
    "#We took the best params from the MLflow interface and copien them here\n",
    "\n",
    "best_params = {\n",
    "     \n",
    "}\n",
    "\n",
    "mlflow.xgboost.autolog()\n",
    "\n",
    "booster = xgb.train(\n",
    "    params = best_params,\n",
    "    dtrain = train,\n",
    "    evals = [(validation, \"validation\")],\n",
    "    num_boost_round = 500,\n",
    "    early_stopping_rounds = 50,\n",
    ")"
   ]
  },
  {
   "cell_type": "code",
   "execution_count": null,
   "id": "d9621212",
   "metadata": {},
   "outputs": [],
   "source": [
    "key=\"???\"\n",
    "if best_params.get(key):\n",
    "    print(best_params.get(key))\n",
    "else:\n",
    "    print(\"no value\")"
   ]
  },
  {
   "cell_type": "code",
   "execution_count": null,
   "id": "e1fced31",
   "metadata": {},
   "outputs": [],
   "source": [
    "pd.DataFrame.from_dict([best_params])"
   ]
  },
  {
   "cell_type": "code",
   "execution_count": null,
   "id": "f9cb9663",
   "metadata": {},
   "outputs": [],
   "source": [
    "y_pred = booster.predict(validation)\n",
    "\n",
    "rmse = mean_squared_error(y_val, y_pred, squared=False)\n",
    "rmse"
   ]
  },
  {
   "cell_type": "markdown",
   "id": "230ecd01",
   "metadata": {},
   "source": [
    "## Model Logging "
   ]
  },
  {
   "cell_type": "code",
   "execution_count": null,
   "id": "0036541a",
   "metadata": {},
   "outputs": [],
   "source": [
    "with open('models/moodel.bin', 'wb') as f_out:\n",
    "    pickle.dump(booster, f_out)"
   ]
  },
  {
   "cell_type": "code",
   "execution_count": null,
   "id": "5d5f07c2",
   "metadata": {},
   "outputs": [],
   "source": [
    "with open('preprocessing/process_dataframe.bin', 'wb') as f_out:\n",
    "    pickle.dump(process_dataframe, f_out)"
   ]
  },
  {
   "cell_type": "code",
   "execution_count": null,
   "id": "260a28ca",
   "metadata": {},
   "outputs": [],
   "source": [
    "mlflow.set_experiment(\"test\")\n",
    "with mlflow.start_run():\n",
    "    best_params = {\n",
    "\n",
    "    }\n",
    "    \n",
    "    mlflow.log_params(best_params)\n",
    "    mlflow.log_param('train_data_name', 'green_tripdata_2022-01.parquet')\n",
    "    mlflow.log_param('validation_data_name', 'green_tripdata_2022-02.parquet')\n",
    "    mlflow.set_tag('model', 'xgboost')\n",
    "    \n",
    "    booster = xgb.train(\n",
    "    params = best_params,\n",
    "    dtrain = train,\n",
    "    evals = [(validation, \"validation\")],\n",
    "    num_boost_round = 500,\n",
    "    early_stopping_rounds = 50,\n",
    "    )\n",
    "    \n",
    "    mlflow.xgboost.log_model(booster, artifact_path='mlflow_models')\n",
    "    mlflow.log_artifact('preprocessing/process_dataframe.bin', artifact_path='preprocessing')\n",
    "    "
   ]
  },
  {
   "cell_type": "markdown",
   "id": "afb234c0",
   "metadata": {},
   "source": [
    "## Load Model"
   ]
  },
  {
   "cell_type": "code",
   "execution_count": null,
   "id": "28f9801f",
   "metadata": {
    "scrolled": true
   },
   "outputs": [],
   "source": [
    "logged_model = 'runs:???'\n",
    "loaded_model = mlflow.pyfunc.load_model(logged_model)"
   ]
  },
  {
   "cell_type": "code",
   "execution_count": null,
   "id": "4ba85fc2",
   "metadata": {},
   "outputs": [],
   "source": [
    "type(loaded_model)"
   ]
  },
  {
   "cell_type": "code",
   "execution_count": null,
   "id": "e8d21d4a",
   "metadata": {},
   "outputs": [],
   "source": [
    "y_preds = loaded_model.predict(X_val)"
   ]
  },
  {
   "cell_type": "code",
   "execution_count": null,
   "id": "5f54913d",
   "metadata": {},
   "outputs": [],
   "source": [
    "mean_squared_error(y_preds, y_val, squared=False)"
   ]
  },
  {
   "cell_type": "code",
   "execution_count": null,
   "id": "abfae981",
   "metadata": {},
   "outputs": [],
   "source": [
    "y_preds"
   ]
  },
  {
   "cell_type": "code",
   "execution_count": null,
   "id": "56694a88",
   "metadata": {},
   "outputs": [],
   "source": [
    "print(loaded_model.metadata.get_model_info())"
   ]
  },
  {
   "cell_type": "markdown",
   "id": "91ad5441",
   "metadata": {},
   "source": [
    "## Sklearn Models"
   ]
  },
  {
   "cell_type": "code",
   "execution_count": null,
   "id": "cc512f0e",
   "metadata": {},
   "outputs": [],
   "source": [
    "mlflow.sklearn.autolog()\n",
    "\n",
    "for algorithm in (LinearSVR, RandomForestRegressor, GradientBoostingRegressor):\n",
    "    with mlflow.start_run():\n",
    "        mlflow.log_param('train_data_name', 'green_tripdata_2022-01.parquet')\n",
    "        mlflow.log_param('validation_data_name', 'green_tripdata_2022-02.parquet')\n",
    "        mlflow.log_artifact('preprocessing/process_dataframe.bin', artifact_path='preprocessing')\n",
    "        model = algorithm()\n",
    "        model.fit(X_train, y_train)\n",
    "        \n",
    "        preds = model.predict(X_val)\n",
    "        rmse = mean_squared_error(preds, y_val, squared=False)\n",
    "        mlflow.log_metric(\"rmse\", rmse)\n",
    "        "
   ]
  },
  {
   "cell_type": "markdown",
   "id": "1b880d99",
   "metadata": {},
   "source": [
    "## MLflow Client"
   ]
  },
  {
   "cell_type": "code",
   "execution_count": null,
   "id": "0a53536c",
   "metadata": {},
   "outputs": [],
   "source": [
    "from mlflow.tracking import MlflowClient\n",
    "from mlflow.entities import ViewType"
   ]
  },
  {
   "cell_type": "code",
   "execution_count": null,
   "id": "43761047",
   "metadata": {},
   "outputs": [],
   "source": [
    "MLFLOW_URI = \"sqlite:///mlflow.db\""
   ]
  },
  {
   "cell_type": "code",
   "execution_count": null,
   "id": "377d4b4e",
   "metadata": {},
   "outputs": [],
   "source": [
    "client = MlflowClient(MLFLOW_URI)"
   ]
  },
  {
   "cell_type": "code",
   "execution_count": null,
   "id": "1551be3a",
   "metadata": {},
   "outputs": [],
   "source": [
    "client.list_experiments()"
   ]
  },
  {
   "cell_type": "code",
   "execution_count": null,
   "id": "435712b8",
   "metadata": {},
   "outputs": [],
   "source": [
    "client.create_experiment(name = 'new-experimet')"
   ]
  },
  {
   "cell_type": "code",
   "execution_count": null,
   "id": "558b3002",
   "metadata": {},
   "outputs": [],
   "source": [
    "client.list_experiments()"
   ]
  },
  {
   "cell_type": "code",
   "execution_count": null,
   "id": "673ed703",
   "metadata": {},
   "outputs": [],
   "source": [
    "runs = client.search_runs(\n",
    "    experiment_ids='1',\n",
    "    run_view_type=ViewType.ACTIVE_ONLY,\n",
    "    filter_string='metrics.rmse < 7',\n",
    "    max_results=5,\n",
    "    order_by=[\"metrics.rmse ASC\"],\n",
    ")"
   ]
  },
  {
   "cell_type": "code",
   "execution_count": null,
   "id": "fed07f91",
   "metadata": {
    "scrolled": false
   },
   "outputs": [],
   "source": [
    "for run in runs:\n",
    "    print(f\"run_id:{run.info.run_id}, metrics:{run.data.metrics['rmse']}\")"
   ]
  }
 ],
 "metadata": {
  "interpreter": {
   "hash": "0848c9d6c7d415ad6c477ff7ff8e98694d1a4aa96d0deee89244642e6b630036"
  },
  "kernelspec": {
   "display_name": "Python 3 (ipykernel)",
   "language": "python",
   "name": "python3"
  },
  "language_info": {
   "codemirror_mode": {
    "name": "ipython",
    "version": 3
   },
   "file_extension": ".py",
   "mimetype": "text/x-python",
   "name": "python",
   "nbconvert_exporter": "python",
   "pygments_lexer": "ipython3",
   "version": "3.9.12"
  }
 },
 "nbformat": 4,
 "nbformat_minor": 5
}
